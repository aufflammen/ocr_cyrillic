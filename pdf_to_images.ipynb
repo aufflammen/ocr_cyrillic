{
 "cells": [
  {
   "cell_type": "markdown",
   "id": "e4ff108e-97fe-4bdd-abaa-d04d1461256c",
   "metadata": {},
   "source": [
    "# PDF to images and text"
   ]
  },
  {
   "cell_type": "markdown",
   "id": "bc9fde23-8368-4bc4-b950-56e898139192",
   "metadata": {},
   "source": [
    "## Imports"
   ]
  },
  {
   "cell_type": "code",
   "execution_count": 1,
   "id": "341a9af7-9c5a-4b84-8a8d-ae36a2c4cf3c",
   "metadata": {},
   "outputs": [],
   "source": [
    "import re\n",
    "import fitz\n",
    "import json\n",
    "from pathlib import Path\n",
    "from tqdm.auto import tqdm\n",
    "\n",
    "from castom_utils import *"
   ]
  },
  {
   "cell_type": "markdown",
   "id": "07cdae19-b43a-4474-a510-e2a0023ac68b",
   "metadata": {},
   "source": [
    "## Config"
   ]
  },
  {
   "cell_type": "code",
   "execution_count": 11,
   "id": "43b57673-1b84-4231-9752-d72caf08ccfb",
   "metadata": {},
   "outputs": [
    {
     "name": "stdout",
     "output_type": "stream",
     "text": [
      "\u001b[32m\u001b[1mConfig is loaded!\u001b[0m\n",
      "A list of all characters used:\n",
      "0123456789!\"#$%&'()*+,-./:;<=>?@[\\]^_`{|}~ €₽№°АБВГДЕЁЖЗИЙКЛМНОПРСТУФХЦЧШЩЪЫЬЭЮЯабвгдеёжзийклмнопрстуфхцчшщъыьэюя\n"
     ]
    }
   ],
   "source": [
    "CFG = load_config()"
   ]
  },
  {
   "cell_type": "markdown",
   "id": "4f460cec-ef06-4915-a8a4-68d671ea7b4b",
   "metadata": {},
   "source": [
    "## Convert"
   ]
  },
  {
   "cell_type": "code",
   "execution_count": 9,
   "id": "d9dc63ce-834e-45ef-858b-d2a942978708",
   "metadata": {},
   "outputs": [],
   "source": [
    "def pdf_to_images_and_text(pdf_dir, output_dir, dpi=300):\n",
    "    \"\"\"\n",
    "    Функция для нарезания PDF файлов с текстовым слоем на отдельные изображения\n",
    "    и файл с текстами\n",
    "    \"\"\"\n",
    "    output_dir.joinpath('images').mkdir(parents=True, exist_ok=True)\n",
    "    annotations = {}\n",
    "\n",
    "    # Получаем список всех *.pdf документов\n",
    "    pdf_paths = pdf_dir.glob('*.pdf')\n",
    "    \n",
    "    for pdf_path in pdf_paths:\n",
    "        pdf_name = pdf_path.name\n",
    "        pdf_document = fitz.open(pdf_path)\n",
    "        total_pages = pdf_document.page_count\n",
    "\n",
    "        # Обработка каждой страницы\n",
    "        for page_num in tqdm(range(total_pages), desc=pdf_name):\n",
    "            page = pdf_document.load_page(page_num)\n",
    "\n",
    "            # Сохраняем изображение\n",
    "            pix = page.get_pixmap(dpi=dpi)\n",
    "            img_name = f\"{pdf_name.rstrip('.pdf')}_page{page_num + 1:04d}.png\"\n",
    "            img_path = output_dir.joinpath('images', img_name)\n",
    "            pix.save(img_path)\n",
    "\n",
    "            # Сохраняем текстовый слой\n",
    "            text = page.get_text()\n",
    "            \n",
    "            # Очистка текста\n",
    "            text = re.sub(r' \\n', '\\n', text)\n",
    "            text = re.sub(r'\\xad', '-', text)\n",
    "            text = re.sub(r'[^\\S\\n]+', ' ', text)\n",
    "            # text = re.sub(r'[\\n\\t\\r]+', '', text)\n",
    "\n",
    "            annotations[img_name] = text\n",
    "    \n",
    "    annotations_file = output_dir.joinpath('labels.json')\n",
    "    with open(annotations_file, 'w', encoding='utf-8') as file:\n",
    "        json.dump(annotations, file, indent=2, ensure_ascii=False)"
   ]
  },
  {
   "cell_type": "code",
   "execution_count": 10,
   "id": "38a7a636-c80e-4d8a-8334-ded2854b7917",
   "metadata": {},
   "outputs": [
    {
     "data": {
      "application/vnd.jupyter.widget-view+json": {
       "model_id": "09ff898ecebb4abf96f5544105d9522c",
       "version_major": 2,
       "version_minor": 0
      },
      "text/plain": [
       "zadachi.pdf:   0%|          | 0/21 [00:00<?, ?it/s]"
      ]
     },
     "metadata": {},
     "output_type": "display_data"
    },
    {
     "data": {
      "application/vnd.jupyter.widget-view+json": {
       "model_id": "7d5a176b04514ae692371ed192de1723",
       "version_major": 2,
       "version_minor": 0
      },
      "text/plain": [
       "book.pdf:   0%|          | 0/108 [00:00<?, ?it/s]"
      ]
     },
     "metadata": {},
     "output_type": "display_data"
    }
   ],
   "source": [
    "pdf_dir = CFG.path_pdf_files\n",
    "output_dir = CFG.path_dataset_documents\n",
    "\n",
    "pdf_to_images_and_text(pdf_dir, output_dir)"
   ]
  },
  {
   "cell_type": "code",
   "execution_count": null,
   "id": "82eebf59-e214-4702-961b-6efe8b389162",
   "metadata": {},
   "outputs": [],
   "source": []
  }
 ],
 "metadata": {
  "kernelspec": {
   "display_name": "Python 3 (ipykernel)",
   "language": "python",
   "name": "python3"
  },
  "language_info": {
   "codemirror_mode": {
    "name": "ipython",
    "version": 3
   },
   "file_extension": ".py",
   "mimetype": "text/x-python",
   "name": "python",
   "nbconvert_exporter": "python",
   "pygments_lexer": "ipython3",
   "version": "3.11.10"
  }
 },
 "nbformat": 4,
 "nbformat_minor": 5
}
